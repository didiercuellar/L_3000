{
 "cells": [
  {
   "cell_type": "code",
   "execution_count": 1,
   "metadata": {},
   "outputs": [],
   "source": [
    "import pandas as pd \n",
    "import numpy as np \n",
    "import scipy.stats as st \n",
    "from scipy.interpolate import interp1d\n",
    "from matplotlib import pyplot as plt \n",
    "import math\n",
    "import statistics as stats"
   ]
  },
  {
   "cell_type": "code",
   "execution_count": 2,
   "metadata": {},
   "outputs": [
    {
     "name": "stdout",
     "output_type": "stream",
     "text": [
      "1.4858944399056223e+45\n",
      "           A         B             C\n",
      "0   0.000065  0.003707  2.860000e+45\n",
      "1   0.003847  0.253235  4.120000e+44\n",
      "2   0.000019  0.003634  3.030000e+44\n",
      "3   0.000015  0.012098  7.530000e+44\n",
      "4   0.000020  0.006184  7.450000e+44\n",
      "..       ...       ...           ...\n",
      "65  0.004395  0.077786  3.720000e+44\n",
      "66  0.000131  0.234077  2.540000e+44\n",
      "67  0.000145  0.017397  2.670000e+44\n",
      "68  0.000138  0.342242  6.330000e+44\n",
      "69  0.000846  0.275069  4.600000e+44\n",
      "\n",
      "[70 rows x 3 columns]\n"
     ]
    }
   ],
   "source": [
    "data=pd.read_csv('sigma_U.csv',header=0,)\n",
    "data = data.dropna(how='any')#quita los valores nan del documento\n",
    "y=data.iloc[:,0]\n",
    "w=data.iloc[:,1]\n",
    "x=data.iloc[:,2]\n",
    "\n",
    "print(stats.stdev(x))\n",
    "print(data)"
   ]
  },
  {
   "cell_type": "code",
   "execution_count": 3,
   "metadata": {
    "scrolled": true
   },
   "outputs": [
    {
     "data": {
      "text/plain": [
       "<function matplotlib.pyplot.show(close=None, block=None)>"
      ]
     },
     "execution_count": 3,
     "metadata": {},
     "output_type": "execute_result"
    },
    {
     "data": {
      "image/png": "[encoded data removed]",
      "text/plain": [
       "<Figure size 432x288 with 1 Axes>"
      ]
     },
     "metadata": {
      "needs_background": "light"
     },
     "output_type": "display_data"
    }
   ],
   "source": [
    "yerror = w\n",
    "xerror = 1.4858944399056223e+45\n",
    "plt.plot(x,y,'ro')\n",
    "plt.errorbar(x,y,yerr=yerror, fmt = ' ' , ecolor='black')\n",
    "plt.errorbar(x,y,xerr=xerror, fmt = ' ' , ecolor='blue')\n",
    "plt.ylabel('sigma_U')\n",
    "plt.xlabel('erg/s')\n",
    "plt.title(\"L_3000_U\")\n",
    "plt.xscale('log')\n",
    "#plt.yscale('log')\n",
    "plt.grid()\n",
    "plt.savefig(\"L_3000_sigma_U_error.pdf\")\n",
    "plt.show"
   ]
  },
  {
   "cell_type": "code",
   "execution_count": 4,
   "metadata": {},
   "outputs": [
    {
     "name": "stdout",
     "output_type": "stream",
     "text": [
      "1.4858944399056223e+45\n",
      "           A         B             C\n",
      "0   0.020374  0.217542  2.860000e+45\n",
      "1   0.019147  0.245628  4.120000e+44\n",
      "2   0.000347  0.007313  3.030000e+44\n",
      "3   0.000015  0.018346  7.530000e+44\n",
      "4   0.204625  0.424457  7.450000e+44\n",
      "..       ...       ...           ...\n",
      "65  0.000808  0.073879  3.720000e+44\n",
      "66  0.024960  0.365844  2.540000e+44\n",
      "67  0.024643  0.354931  2.670000e+44\n",
      "68  0.011585  0.340926  6.330000e+44\n",
      "69  0.001236  0.202625  4.600000e+44\n",
      "\n",
      "[70 rows x 3 columns]\n"
     ]
    }
   ],
   "source": [
    "data=pd.read_csv('sigma_G.csv',header=0,)\n",
    "data = data.dropna(how='any')#quita los valores nan del documento\n",
    "y=data.iloc[:,0]\n",
    "w=data.iloc[:,1]\n",
    "x=data.iloc[:,2]\n",
    "\n",
    "print(stats.stdev(x))\n",
    "print(data)"
   ]
  },
  {
   "cell_type": "code",
   "execution_count": 5,
   "metadata": {},
   "outputs": [
    {
     "data": {
      "text/plain": [
       "<function matplotlib.pyplot.show(close=None, block=None)>"
      ]
     },
     "execution_count": 5,
     "metadata": {},
     "output_type": "execute_result"
    },
    {
     "data": {
      "image/png": "[encoded data removed]",
      "text/plain": [
       "<Figure size 432x288 with 1 Axes>"
      ]
     },
     "metadata": {
      "needs_background": "light"
     },
     "output_type": "display_data"
    }
   ],
   "source": [
    "yerror = w\n",
    "xerror = 1.4858944399056223e+45\n",
    "plt.plot(x,y,'ro')\n",
    "plt.errorbar(x,y,yerr=yerror, fmt = ' ' , ecolor='black')\n",
    "plt.errorbar(x,y,xerr=xerror, fmt = ' ' , ecolor='blue')\n",
    "plt.ylabel('sigma_G')\n",
    "plt.xlabel('erg/s')\n",
    "plt.title(\"L_3000_G\")\n",
    "plt.xscale('log')\n",
    "#plt.yscale('log')\n",
    "plt.grid()\n",
    "plt.savefig(\"L_3000_sigma_G_error.pdf\")\n",
    "plt.show"
   ]
  },
  {
   "cell_type": "code",
   "execution_count": 6,
   "metadata": {},
   "outputs": [
    {
     "name": "stdout",
     "output_type": "stream",
     "text": [
      "1.4858944399056223e+45\n",
      "           A         B             C\n",
      "0   0.000240  0.049229  2.860000e+45\n",
      "1   0.009937  0.466189  4.120000e+44\n",
      "2   0.000010  0.002430  3.030000e+44\n",
      "3   0.000006  0.013842  7.530000e+44\n",
      "4   0.000146  0.074123  7.450000e+44\n",
      "..       ...       ...           ...\n",
      "65  0.000227  0.043372  3.720000e+44\n",
      "66  0.004176  0.216582  2.540000e+44\n",
      "67  0.000027  0.049227  2.670000e+44\n",
      "68  0.014633  0.354657  6.330000e+44\n",
      "69  0.000031  0.005688  4.600000e+44\n",
      "\n",
      "[70 rows x 3 columns]\n"
     ]
    }
   ],
   "source": [
    "data=pd.read_csv('sigma_R.csv',header=0,)\n",
    "data = data.dropna(how='any')#quita los valores nan del documento\n",
    "y=data.iloc[:,0]\n",
    "w=data.iloc[:,1]\n",
    "x=data.iloc[:,2]\n",
    "\n",
    "print(stats.stdev(x))\n",
    "print(data)"
   ]
  },
  {
   "cell_type": "code",
   "execution_count": 7,
   "metadata": {},
   "outputs": [
    {
     "data": {
      "text/plain": [
       "<function matplotlib.pyplot.show(close=None, block=None)>"
      ]
     },
     "execution_count": 7,
     "metadata": {},
     "output_type": "execute_result"
    },
    {
     "data": {
      "image/png": "[encoded data removed]",
      "text/plain": [
       "<Figure size 432x288 with 1 Axes>"
      ]
     },
     "metadata": {
      "needs_background": "light"
     },
     "output_type": "display_data"
    }
   ],
   "source": [
    "yerror = w\n",
    "xerror = 1.4858944399056223e+45\n",
    "plt.plot(x,y,'ro')\n",
    "plt.errorbar(x,y,yerr=yerror, fmt = ' ' , ecolor='black')\n",
    "plt.errorbar(x,y,xerr=xerror, fmt = ' ' , ecolor='blue')\n",
    "plt.ylabel('sigma_R')\n",
    "plt.xlabel('erg/s')\n",
    "plt.title(\"L_3000_R\")\n",
    "plt.xscale('log')\n",
    "#plt.yscale('log')\n",
    "plt.grid()\n",
    "plt.savefig(\"L_3000_sigma_R_error.pdf\")\n",
    "plt.show"
   ]
  },
  {
   "cell_type": "code",
   "execution_count": 8,
   "metadata": {},
   "outputs": [
    {
     "name": "stdout",
     "output_type": "stream",
     "text": [
      "1.4858944399056223e+45\n",
      "               A         B             C\n",
      "0   2.069541e-02  0.179094  2.860000e+45\n",
      "1   1.134060e-02  0.277104  4.120000e+44\n",
      "2   4.675283e-05  0.006660  3.030000e+44\n",
      "3   3.306489e-05  0.020402  7.530000e+44\n",
      "4   3.935957e-30  0.210971  7.450000e+44\n",
      "..           ...       ...           ...\n",
      "65  5.057232e-04  0.174931  3.720000e+44\n",
      "66  2.193498e-28  0.319889  2.540000e+44\n",
      "67  3.640730e-02  0.426929  2.670000e+44\n",
      "68  1.418573e-04  0.067696  6.330000e+44\n",
      "69  8.301148e-05  0.021987  4.600000e+44\n",
      "\n",
      "[70 rows x 3 columns]\n"
     ]
    }
   ],
   "source": [
    "data=pd.read_csv('sigma_I.csv',header=0,)\n",
    "data = data.dropna(how='any')#quita los valores nan del documento\n",
    "y=data.iloc[:,0]\n",
    "w=data.iloc[:,1]\n",
    "x=data.iloc[:,2]\n",
    "\n",
    "print(stats.stdev(x))\n",
    "print(data)"
   ]
  },
  {
   "cell_type": "code",
   "execution_count": 10,
   "metadata": {},
   "outputs": [
    {
     "data": {
      "text/plain": [
       "<function matplotlib.pyplot.show(close=None, block=None)>"
      ]
     },
     "execution_count": 10,
     "metadata": {},
     "output_type": "execute_result"
    },
    {
     "data": {
      "image/png": "[encoded data removed]",
      "text/plain": [
       "<Figure size 432x288 with 1 Axes>"
      ]
     },
     "metadata": {
      "needs_background": "light"
     },
     "output_type": "display_data"
    }
   ],
   "source": [
    "yerror = w\n",
    "xerror = 1.4858944399056223e+45\n",
    "plt.plot(x,y,'ro')\n",
    "plt.errorbar(x,y,yerr=yerror, fmt = ' ' , ecolor='black')\n",
    "plt.errorbar(x,y,xerr=xerror, fmt = ' ' , ecolor='blue')\n",
    "plt.ylabel('sigma_I')\n",
    "plt.xlabel('erg/s')\n",
    "plt.title(\"L_3000_I\")\n",
    "plt.xscale('log')\n",
    "#plt.yscale('log')\n",
    "plt.grid()\n",
    "plt.savefig(\"L_3000_sigma_I_error.pdf\")\n",
    "plt.show"
   ]
  },
  {
   "cell_type": "code",
   "execution_count": 11,
   "metadata": {},
   "outputs": [
    {
     "name": "stdout",
     "output_type": "stream",
     "text": [
      "1.4858944399056223e+45\n",
      "               A         B             C\n",
      "0   8.498908e-05  0.083304  2.860000e+45\n",
      "1   5.154518e-05  0.066665  4.120000e+44\n",
      "2   6.020869e-05  0.183441  3.030000e+44\n",
      "3   6.605876e-08  0.053880  7.530000e+44\n",
      "4   1.904890e-05  0.206973  7.450000e+44\n",
      "..           ...       ...           ...\n",
      "65  6.201149e-05  0.042985  3.720000e+44\n",
      "66  2.639775e-04  0.290010  2.540000e+44\n",
      "67  6.537659e-05  0.160364  2.670000e+44\n",
      "68  7.342263e-05  0.141637  6.330000e+44\n",
      "69  3.867540e-05  0.011384  4.600000e+44\n",
      "\n",
      "[70 rows x 3 columns]\n"
     ]
    }
   ],
   "source": [
    "data=pd.read_csv('sigma_Z.csv',header=0,)\n",
    "data = data.dropna(how='any')#quita los valores nan del documento\n",
    "y=data.iloc[:,0]\n",
    "w=data.iloc[:,1]\n",
    "x=data.iloc[:,2]\n",
    "\n",
    "print(stats.stdev(x))\n",
    "print(data)"
   ]
  },
  {
   "cell_type": "code",
   "execution_count": 13,
   "metadata": {},
   "outputs": [
    {
     "data": {
      "text/plain": [
       "<function matplotlib.pyplot.show(close=None, block=None)>"
      ]
     },
     "execution_count": 13,
     "metadata": {},
     "output_type": "execute_result"
    },
    {
     "data": {
      "image/png": "[encoded data removed]",
      "text/plain": [
       "<Figure size 432x288 with 1 Axes>"
      ]
     },
     "metadata": {
      "needs_background": "light"
     },
     "output_type": "display_data"
    }
   ],
   "source": [
    "yerror = w\n",
    "xerror = 1.4858944399056223e+45\n",
    "plt.plot(x,y,'ro')\n",
    "plt.errorbar(x,y,yerr=yerror, fmt = ' ' , ecolor='black')\n",
    "plt.errorbar(x,y,xerr=xerror, fmt = ' ' , ecolor='blue')\n",
    "plt.ylabel('sigma_Z')\n",
    "plt.xlabel('erg/s')\n",
    "plt.title(\"L_3000_Z\")\n",
    "plt.xscale('log')\n",
    "#plt.yscale('log')\n",
    "plt.grid()\n",
    "plt.savefig(\"L_3000_sigma_Z_error.pdf\")\n",
    "plt.show"
   ]
  }
 ],
 "metadata": {
  "kernelspec": {
   "display_name": "Python 3",
   "language": "python",
   "name": "python3"
  },
  "language_info": {
   "codemirror_mode": {
    "name": "ipython",
    "version": 3
   },
   "file_extension": ".py",
   "mimetype": "text/x-python",
   "name": "python",
   "nbconvert_exporter": "python",
   "pygments_lexer": "ipython3",
   "version": "3.7.6"
  }
 },
 "nbformat": 4,
 "nbformat_minor": 4
}
