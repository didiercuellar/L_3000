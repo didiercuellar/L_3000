{
 "cells": [
  {
   "cell_type": "code",
   "execution_count": 1,
   "metadata": {},
   "outputs": [],
   "source": [
    "import pandas as pd \n",
    "import numpy as np \n",
    "import scipy.stats as st \n",
    "from scipy.interpolate import interp1d\n",
    "from matplotlib import pyplot as plt \n",
    "import math\n",
    "import statistics as stats"
   ]
  },
  {
   "cell_type": "code",
   "execution_count": 2,
   "metadata": {},
   "outputs": [
    {
     "name": "stdout",
     "output_type": "stream",
     "text": [
      "1.4858944399056223e+45\n",
      "             A         B             C\n",
      "0   106.092218  1.789340  2.860000e+45\n",
      "1   114.110142  1.738364  4.120000e+44\n",
      "2    67.115742  1.652795  3.030000e+44\n",
      "3    71.672233  1.583762  7.530000e+44\n",
      "4    90.909547  1.739032  7.450000e+44\n",
      "..         ...       ...           ...\n",
      "65   87.593373  1.802471  3.720000e+44\n",
      "66   52.631167  1.572969  2.540000e+44\n",
      "67  107.433101  1.874277  2.670000e+44\n",
      "68   44.077425  1.467471  6.330000e+44\n",
      "69   67.595756  1.500005  4.600000e+44\n",
      "\n",
      "[70 rows x 3 columns]\n"
     ]
    }
   ],
   "source": [
    "data=pd.read_csv('logpost_U.csv',header=0,)\n",
    "data = data.dropna(how='any')#quita los valores nan del documento\n",
    "y=data.iloc[:,0]\n",
    "w=data.iloc[:,1] \n",
    "x=data.iloc[:,2]\n",
    "\n",
    "print(stats.stdev(x))\n",
    "print(data)"
   ]
  },
  {
   "cell_type": "code",
   "execution_count": 3,
   "metadata": {},
   "outputs": [
    {
     "data": {
      "text/plain": [
       "<function matplotlib.pyplot.show(close=None, block=None)>"
      ]
     },
     "execution_count": 3,
     "metadata": {},
     "output_type": "execute_result"
    },
    {
     "data": {
      "image/png": "[encoded data removed]",
      "text/plain": [
       "<Figure size 432x288 with 1 Axes>"
      ]
     },
     "metadata": {
      "needs_background": "light"
     },
     "output_type": "display_data"
    }
   ],
   "source": [
    "yerror = w\n",
    "xerror = 1.4858944399056223e+45\n",
    "plt.plot(x,y,'ro')\n",
    "plt.errorbar(x,y,yerr=yerror, fmt = ' ' , ecolor='black')\n",
    "plt.errorbar(x,y,xerr=xerror, fmt = ' ' , ecolor='blue')\n",
    "plt.ylabel('logpost_U')\n",
    "plt.xlabel('erg/s')\n",
    "plt.title(\"L_3000_U\")\n",
    "plt.xscale('log')\n",
    "#plt.yscale('log')\n",
    "plt.grid()\n",
    "plt.savefig(\"L_3000_logpost_U_Error.pdf\")\n",
    "plt.show"
   ]
  },
  {
   "cell_type": "code",
   "execution_count": 4,
   "metadata": {},
   "outputs": [
    {
     "name": "stdout",
     "output_type": "stream",
     "text": [
      "1.4858944399056223e+45\n",
      "             A         B             C\n",
      "0   130.202316  1.949627  2.860000e+45\n",
      "1   149.906770  2.918206  4.120000e+44\n",
      "2   105.104500  1.736560  3.030000e+44\n",
      "3    71.672233  1.583762  7.530000e+44\n",
      "4   125.089477  2.485903  7.450000e+44\n",
      "..         ...       ...           ...\n",
      "65  100.952530  1.662809  3.720000e+44\n",
      "66   91.296226  1.902346  2.540000e+44\n",
      "67  118.548071  1.635332  2.670000e+44\n",
      "68  100.190162  1.673830  6.330000e+44\n",
      "69  114.289305  1.719885  4.600000e+44\n",
      "\n",
      "[70 rows x 3 columns]\n"
     ]
    }
   ],
   "source": [
    "data=pd.read_csv('logpost_G.csv',header=0,)\n",
    "data = data.dropna(how='any')#quita los valores nan del documento\n",
    "y=data.iloc[:,0]\n",
    "w=data.iloc[:,1] \n",
    "x=data.iloc[:,2]\n",
    "\n",
    "print(stats.stdev(x))\n",
    "print(data)"
   ]
  },
  {
   "cell_type": "code",
   "execution_count": 5,
   "metadata": {},
   "outputs": [
    {
     "data": {
      "text/plain": [
       "<function matplotlib.pyplot.show(close=None, block=None)>"
      ]
     },
     "execution_count": 5,
     "metadata": {},
     "output_type": "execute_result"
    },
    {
     "data": {
      "image/png": "[encoded data removed]",
      "text/plain": [
       "<Figure size 432x288 with 1 Axes>"
      ]
     },
     "metadata": {
      "needs_background": "light"
     },
     "output_type": "display_data"
    }
   ],
   "source": [
    "yerror = w\n",
    "xerror = 1.4858944399056223e+45\n",
    "plt.plot(x,y,'ro')\n",
    "plt.errorbar(x,y,yerr=yerror, fmt = ' ' , ecolor='black')\n",
    "plt.errorbar(x,y,xerr=xerror, fmt = ' ' , ecolor='blue')\n",
    "plt.ylabel('logpost_G')\n",
    "plt.xlabel('erg/s')\n",
    "plt.title(\"L_3000_G\")\n",
    "plt.xscale('log')\n",
    "#plt.yscale('log')\n",
    "plt.grid()\n",
    "plt.savefig(\"L_3000_logpost_G_error.pdf\")\n",
    "plt.show"
   ]
  },
  {
   "cell_type": "code",
   "execution_count": 7,
   "metadata": {},
   "outputs": [
    {
     "name": "stdout",
     "output_type": "stream",
     "text": [
      "1.4858944399056223e+45\n",
      "             A         B             C\n",
      "0   154.399355  1.829780  2.860000e+45\n",
      "1   150.212161  2.298551  4.120000e+44\n",
      "2   109.168604  1.641570  3.030000e+44\n",
      "3   117.038446  1.661915  7.530000e+44\n",
      "4   131.885924  1.702738  7.450000e+44\n",
      "..         ...       ...           ...\n",
      "65  151.831032  1.706792  3.720000e+44\n",
      "66  279.736000  1.961322  2.540000e+44\n",
      "67  120.083331  1.709789  2.670000e+44\n",
      "68  114.219733  1.822734  6.330000e+44\n",
      "69  118.094155  1.616840  4.600000e+44\n",
      "\n",
      "[70 rows x 3 columns]\n"
     ]
    }
   ],
   "source": [
    "data=pd.read_csv('logpost_R.csv',header=0,)\n",
    "data = data.dropna(how='any')#quita los valores nan del documento\n",
    "y=data.iloc[:,0]\n",
    "w=data.iloc[:,1]\n",
    "x=data.iloc[:,2]\n",
    "\n",
    "print(stats.stdev(x))\n",
    "print(data)"
   ]
  },
  {
   "cell_type": "code",
   "execution_count": 6,
   "metadata": {},
   "outputs": [
    {
     "data": {
      "text/plain": [
       "<function matplotlib.pyplot.show(close=None, block=None)>"
      ]
     },
     "execution_count": 6,
     "metadata": {},
     "output_type": "execute_result"
    },
    {
     "data": {
      "image/png": "[encoded data removed]",
      "text/plain": [
       "<Figure size 432x288 with 1 Axes>"
      ]
     },
     "metadata": {
      "needs_background": "light"
     },
     "output_type": "display_data"
    }
   ],
   "source": [
    "yerror = w\n",
    "xerror = 1.4858944399056223e+45\n",
    "plt.plot(x,y,'ro')\n",
    "plt.errorbar(x,y,yerr=yerror, fmt = ' ' , ecolor='black')\n",
    "plt.errorbar(x,y,xerr=xerror, fmt = ' ' , ecolor='blue')\n",
    "plt.ylabel('logpost_R')\n",
    "plt.xlabel('erg/s')\n",
    "plt.title(\"L_3000_R\")\n",
    "plt.xscale('log')\n",
    "#plt.yscale('log')\n",
    "plt.grid()\n",
    "plt.savefig(\"L_3000_logpost_R_error.pdf\")\n",
    "plt.show"
   ]
  },
  {
   "cell_type": "code",
   "execution_count": 7,
   "metadata": {},
   "outputs": [
    {
     "name": "stdout",
     "output_type": "stream",
     "text": [
      "1.4858944399056223e+45\n",
      "             A         B             C\n",
      "0   141.824069  3.040497  2.860000e+45\n",
      "1   151.780281  2.574591  4.120000e+44\n",
      "2    92.614660  1.641891  3.030000e+44\n",
      "3   110.824485  2.394953  7.530000e+44\n",
      "4   112.537535  2.833369  7.450000e+44\n",
      "..         ...       ...           ...\n",
      "65  139.909863  1.884320  3.720000e+44\n",
      "66  258.353910  1.715715  2.540000e+44\n",
      "67  106.595741  2.168879  2.670000e+44\n",
      "68   96.048597  2.433608  6.330000e+44\n",
      "69  119.202723  1.813164  4.600000e+44\n",
      "\n",
      "[70 rows x 3 columns]\n"
     ]
    }
   ],
   "source": [
    "data=pd.read_csv('logpost_I.csv',header=0,)\n",
    "data = data.dropna(how='any')#quita los valores nan del documento\n",
    "y=data.iloc[:,0]\n",
    "w=data.iloc[:,1]\n",
    "x=data.iloc[:,2]\n",
    "\n",
    "print(stats.stdev(x))\n",
    "print(data)"
   ]
  },
  {
   "cell_type": "code",
   "execution_count": 8,
   "metadata": {},
   "outputs": [
    {
     "data": {
      "text/plain": [
       "<function matplotlib.pyplot.show(close=None, block=None)>"
      ]
     },
     "execution_count": 8,
     "metadata": {},
     "output_type": "execute_result"
    },
    {
     "data": {
      "image/png": "[encoded data removed]",
      "text/plain": [
       "<Figure size 432x288 with 1 Axes>"
      ]
     },
     "metadata": {
      "needs_background": "light"
     },
     "output_type": "display_data"
    }
   ],
   "source": [
    "yerror = w\n",
    "xerror = 1.4858944399056223e+45\n",
    "plt.plot(x,y,'ro')\n",
    "plt.errorbar(x,y,yerr=yerror, fmt = ' ' , ecolor='black')\n",
    "plt.errorbar(x,y,xerr=xerror, fmt = ' ' , ecolor='blue')\n",
    "plt.ylabel('logpost_I')\n",
    "plt.xlabel('erg/s')\n",
    "plt.title(\"L_3000_I\")\n",
    "plt.xscale('log')\n",
    "#plt.yscale('log')\n",
    "plt.grid()\n",
    "plt.savefig(\"L_3000_logpost_I_error.pdf\")\n",
    "plt.show"
   ]
  },
  {
   "cell_type": "code",
   "execution_count": 11,
   "metadata": {},
   "outputs": [
    {
     "name": "stdout",
     "output_type": "stream",
     "text": [
      "1.4858944399056223e+45\n",
      "             A         B             C\n",
      "0   137.892281  1.687340  2.860000e+45\n",
      "1   113.125078  1.561252  4.120000e+44\n",
      "2    54.439427  1.585758  3.030000e+44\n",
      "3    65.567099  1.576602  7.530000e+44\n",
      "4   100.513633  1.802875  7.450000e+44\n",
      "..         ...       ...           ...\n",
      "65   89.774687  1.570829  3.720000e+44\n",
      "66   56.856055  1.613308  2.540000e+44\n",
      "67   67.978592  2.351482  2.670000e+44\n",
      "68   57.470200  1.640586  6.330000e+44\n",
      "69   63.996105  1.570317  4.600000e+44\n",
      "\n",
      "[70 rows x 3 columns]\n"
     ]
    }
   ],
   "source": [
    "data=pd.read_csv('logpost_Z.csv',header=0,)\n",
    "data = data.dropna(how='any')#quita los valores nan del documento\n",
    "y=data.iloc[:,0]\n",
    "w=data.iloc[:,1]\n",
    "x=data.iloc[:,2]\n",
    "\n",
    "print(stats.stdev(x))\n",
    "print(data)"
   ]
  },
  {
   "cell_type": "code",
   "execution_count": 9,
   "metadata": {},
   "outputs": [
    {
     "data": {
      "text/plain": [
       "<function matplotlib.pyplot.show(close=None, block=None)>"
      ]
     },
     "execution_count": 9,
     "metadata": {},
     "output_type": "execute_result"
    },
    {
     "data": {
      "image/png": "[encoded data removed]",
      "text/plain": [
       "<Figure size 432x288 with 1 Axes>"
      ]
     },
     "metadata": {
      "needs_background": "light"
     },
     "output_type": "display_data"
    }
   ],
   "source": [
    "yerror = w\n",
    "xerror = 1.4858944399056223e+45\n",
    "plt.plot(x,y,'ro')\n",
    "plt.errorbar(x,y,yerr=yerror, fmt = ' ' , ecolor='black')\n",
    "plt.errorbar(x,y,xerr=xerror, fmt = ' ' , ecolor='blue')\n",
    "plt.ylabel('logpost_Z')\n",
    "plt.xlabel('erg/s')\n",
    "plt.title(\"L_3000_Z\")\n",
    "plt.xscale('log')\n",
    "#plt.yscale('log')\n",
    "plt.grid()\n",
    "plt.savefig(\"L_3000_logpost_Z_error.pdf\")\n",
    "plt.show"
   ]
  }
 ],
 "metadata": {
  "kernelspec": {
   "display_name": "Python 3",
   "language": "python",
   "name": "python3"
  },
  "language_info": {
   "codemirror_mode": {
    "name": "ipython",
    "version": 3
   },
   "file_extension": ".py",
   "mimetype": "text/x-python",
   "name": "python",
   "nbconvert_exporter": "python",
   "pygments_lexer": "ipython3",
   "version": "3.7.6"
  }
 },
 "nbformat": 4,
 "nbformat_minor": 4
}
